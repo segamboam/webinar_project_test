{
 "cells": [
  {
   "cell_type": "code",
   "execution_count": 1,
   "metadata": {},
   "outputs": [],
   "source": [
    "# main.py\n",
    "from models.contact import Contact\n",
    "from models.lead import Lead\n",
    "from manager import ContactManager\n",
    "\n",
    "# Inicializar el gestor de contactos\n",
    "manager = ContactManager()\n",
    "\n",
    "# Datos iniciales: Contactos\n",
    "initial_contacts = [\n",
    "    Contact(\"Alice\", \"Brown\", None, \"1231112223\"),\n",
    "    Contact(\"Bob\", \"Crown\", \"bob@crowns.com\", None),\n",
    "    Contact(\"Carlos\", \"Drew\", \"carl@drewess.com\", \"3453334445\"),\n",
    "    Contact(\"Doug\", \"Emerty\", None, \"4564445556\"),\n",
    "    Contact(\"Egan\", \"Fair\", \"eg@fairness.com\", \"5675556667\"),\n",
    "]\n",
    "\n",
    "# Datos iniciales: Leads\n",
    "initial_leads = [\n",
    "    Lead(None, \"kevin@keith.com\", None),\n",
    "    Lead(\"Lucy\", \"lucy@liu.com\", \"3210001112\"),\n",
    "    Lead(\"Mary Middle\", \"mary@middle.com\", \"3331112223\"),\n",
    "    Lead(None, None, \"4442223334\"),\n",
    "    Lead(None, \"ole@olson.com\", None),\n",
    "]\n",
    "\n",
    "# Agregar contactos iniciales al gestor\n",
    "for contact in initial_contacts:\n",
    "    manager.add_contact(contact)\n",
    "\n",
    "# Agregar leads iniciales al gestor\n",
    "for lead in initial_leads:\n",
    "    manager.add_lead(lead)\n",
    "\n",
    "# Datos de registros\n",
    "registrants = [\n",
    "    {\"name\": \"Lucy Liu\", \"email\": \"lucy@liu.com\", \"phone\": None},\n",
    "    {\"name\": \"Doug\", \"email\": \"doug@emmy.com\", \"phone\": \"4564445556\"},\n",
    "    {\"name\": \"Uma Thurman\", \"email\": \"uma@thurs.com\", \"phone\": None},\n",
    "]"
   ]
  },
  {
   "cell_type": "code",
   "execution_count": 4,
   "metadata": {},
   "outputs": [
    {
     "name": "stdout",
     "output_type": "stream",
     "text": [
      "None\n",
      "bob@crowns.com\n",
      "carl@drewess.com\n",
      "eg@fairness.com\n"
     ]
    }
   ],
   "source": [
    "for x in manager.contacts:\n",
    "    print(x.email)"
   ]
  },
  {
   "cell_type": "code",
   "execution_count": 3,
   "metadata": {},
   "outputs": [
    {
     "data": {
      "text/plain": [
       "list"
      ]
     },
     "execution_count": 3,
     "metadata": {},
     "output_type": "execute_result"
    }
   ],
   "source": [
    "type(manager.contacts)"
   ]
  },
  {
   "cell_type": "code",
   "execution_count": null,
   "metadata": {},
   "outputs": [],
   "source": []
  }
 ],
 "metadata": {
  "kernelspec": {
   "display_name": "Python 3",
   "language": "python",
   "name": "python3"
  },
  "language_info": {
   "codemirror_mode": {
    "name": "ipython",
    "version": 3
   },
   "file_extension": ".py",
   "mimetype": "text/x-python",
   "name": "python",
   "nbconvert_exporter": "python",
   "pygments_lexer": "ipython3",
   "version": "3.10.12"
  }
 },
 "nbformat": 4,
 "nbformat_minor": 2
}
